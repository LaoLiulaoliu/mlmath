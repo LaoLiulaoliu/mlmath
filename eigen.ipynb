{
 "cells": [
  {
   "cell_type": "markdown",
   "metadata": {},
   "source": [
    "### Singular Value Decomposition\n",
    "\n"
   ]
  },
  {
   "cell_type": "markdown",
   "metadata": {},
   "source": [
    "矩阵的初等行变换（相当于给矩阵左乘矩阵）在几何空间的变化，伸缩或旋转。\n",
    "\n",
    "1. 矩阵初等变换，用非零常数乘以矩阵某一行。\n",
    "\n",
    "一个向量 $V$ 左乘矩阵 $A$：\n",
    "$$\n",
    "A \\cdot V =\n",
    "  \\begin{bmatrix}\n",
    "  3 & 0\\\\\n",
    "  0 & 0.5\\\\\n",
    "  \\end{bmatrix}\n",
    "\\cdot\n",
    "  \\begin{bmatrix} x\\\\ y\\\\ \\end{bmatrix}\n",
    "=\n",
    "  \\begin{bmatrix} 3x\\\\ 0.5y\\\\ \\end{bmatrix}\n",
    "$$\n",
    "\n",
    "$A$ 对称时，对角线上每一个元素，会对一个维度进行拉伸变换，$x$ 拉伸为3倍，$y$ 缩小为0.5倍。经过变换，x 和 y 张成矩形面积增加1.5倍，而矩阵的行列式$|A| = 1.5$。\n",
    "\n",
    "2. 矩阵初等变换，互换矩阵的两行。\n",
    "\n",
    "$$\n",
    "A \\cdot V =\n",
    "  \\begin{bmatrix}\n",
    "  0 & 1\\\\\n",
    "  1 & 0\\\\\n",
    "  \\end{bmatrix}\n",
    "\\cdot\n",
    "  \\begin{bmatrix} x\\\\ y\\\\ \\end{bmatrix}\n",
    "=\n",
    "  \\begin{bmatrix} y\\\\ x\\\\ \\end{bmatrix}\n",
    "$$\n",
    "\n",
    "沿着y = x 做了一个对称旋转，高维中，是其中两维组成对称轴做对称旋转。\n",
    "\n",
    "3. 矩阵初等变换，第i行k倍加到第j行。\n",
    "$$\n",
    "A \\cdot V =\n",
    "  \\begin{bmatrix}\n",
    "  1 & 2\\\\\n",
    "  0 & 1\\\\\n",
    "  \\end{bmatrix}\n",
    "\\cdot\n",
    "  \\begin{bmatrix} x\\\\ y\\\\ \\end{bmatrix}\n",
    "=\n",
    "  \\begin{bmatrix} x+2y\\\\ y\\\\ \\end{bmatrix}\n",
    "$$\n",
    "\n",
    "第二行的两倍加到第一行，y轴竖直方向大小不变，x轴水平方向上左右拉伸，方向取决于$A_{12}$的符号。\n",
    "\n",
    "\n",
    "矩阵的初等行变换中，左乘矩阵的所有列向量组成一组新基，原矩阵$X$ 是在老基视角下的数值表示，变换后矩阵$Y$ 是在新基视角下的数值表示，左乘的矩阵是过渡矩阵的逆$C^{-1}$，$Y =C^{-1} X$。如果老基组成的矩阵是单位矩阵$I$，$I \\cdot C = C$，那么过渡矩阵$C$ 就是新基。相似矩阵是一个线性变换在不同基下的矩阵。初等变换中矩阵和行列式表示变化的面积或体积的增大倍率"
   ]
  },
  {
   "cell_type": "markdown",
   "metadata": {},
   "source": [
    "### References\n",
    "[1] [【线性代数的几何意义】行列式的几何意义](https://www.cnblogs.com/AndyJee/p/3491487.html)\n",
    "\n",
    "[2] [机器学习中SVD总结](https://mp.weixin.qq.com/s/Dv51K8JETakIKe5dPBAPVg)"
   ]
  }
 ],
 "metadata": {
  "kernelspec": {
   "display_name": "Python 3",
   "language": "python",
   "name": "python3"
  },
  "language_info": {
   "codemirror_mode": {
    "name": "ipython",
    "version": 3
   },
   "file_extension": ".py",
   "mimetype": "text/x-python",
   "name": "python",
   "nbconvert_exporter": "python",
   "pygments_lexer": "ipython3",
   "version": "3.8.5"
  }
 },
 "nbformat": 4,
 "nbformat_minor": 4
}
