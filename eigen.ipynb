{
 "cells": [
  {
   "cell_type": "markdown",
   "metadata": {},
   "source": [
    "### Singular Value Decomposition"
   ]
  },
  {
   "cell_type": "markdown",
   "metadata": {},
   "source": [
    "### 矩阵和行列式的几何意义\n",
    "\n",
    "矩阵的初等行变换（相当于给矩阵左乘矩阵$A$）在几何空间的变化，伸缩或旋转。\n",
    "\n",
    "矩阵$A$ 的行列式的几何意义是线性变换$A$ 下的图形面积或体积的伸缩因子。\n",
    "\n",
    "1. 矩阵初等变换，用非零常数乘以矩阵某一行。\n",
    "\n",
    "一个向量 $X$ 左乘矩阵 $A$：\n",
    "$$\n",
    "A \\cdot X =\n",
    "  \\begin{bmatrix}\n",
    "  3 & 0\\\\\n",
    "  0 & 0.5\\\\\n",
    "  \\end{bmatrix}\n",
    "\\cdot\n",
    "  \\begin{bmatrix} x\\\\ y\\\\ \\end{bmatrix}\n",
    "=\n",
    "  \\begin{bmatrix} 3x\\\\ 0.5y\\\\ \\end{bmatrix}\n",
    "$$\n",
    "\n",
    "$A$ 对称时，对角线上每一个元素，会对一个维度进行拉伸变换，$x$ 拉伸为3倍，$y$ 缩小为0.5倍。\n",
    "\n",
    "经过变换，$x$ 和$y$ 张成矩形面积增加1.5倍，矩阵的行列式$|A| = 1.5$。\n",
    "\n",
    "2. 矩阵初等变换，互换矩阵的两行。\n",
    "\n",
    "$$\n",
    "A \\cdot X =\n",
    "  \\begin{bmatrix}\n",
    "  0 & 1\\\\\n",
    "  1 & 0\\\\\n",
    "  \\end{bmatrix}\n",
    "\\cdot\n",
    "  \\begin{bmatrix} x\\\\ y\\\\ \\end{bmatrix}\n",
    "=\n",
    "  \\begin{bmatrix} y\\\\ x\\\\ \\end{bmatrix}\n",
    "$$\n",
    "\n",
    "沿着$y$ = $x$ 做了一个对称旋转，高维中，是其中两维组成对称轴做对称旋转。\n",
    "\n",
    "经过变换，$x$ 和$y$ 张成矩形面积增加-1倍，矩阵的行列式$|A| = -1$。\n",
    "\n",
    "3. 矩阵初等变换，第i行k倍加到第j行。\n",
    "$$\n",
    "A \\cdot X =\n",
    "  \\begin{bmatrix}\n",
    "  1 & 2\\\\\n",
    "  0 & 1\\\\\n",
    "  \\end{bmatrix}\n",
    "\\cdot\n",
    "  \\begin{bmatrix} x\\\\ y\\\\ \\end{bmatrix}\n",
    "=\n",
    "  \\begin{bmatrix} x+2y\\\\ y\\\\ \\end{bmatrix}\n",
    "$$\n",
    "\n",
    "第二行的两倍加到第一行，$y$轴沿竖直方向大小不变，$x$轴沿水平方向上左右拉伸，拉伸方向上向左向右，取决于$A_{12}$的符号。\n",
    "\n",
    "经过变换，$x$ 和$y$ 张成矩形面积不变，矩阵的行列式$|A| = 1$。\n",
    "\n",
    "[wikipedia](https://en.wikipedia.org/wiki/Eigenvalues_and_eigenvectors) 上一些线性变换的展示：\n",
    "\n",
    "![](./img/eigenvalues_transformations.png)\n",
    "\n",
    "矩阵的初等行变换中，左乘矩阵的所有列向量组成一组新基，原矩阵$X$ 是在老基视角下的数值表示，变换后矩阵$Y$ 是在新基视角下的数值表示，左乘的矩阵$A$是过渡矩阵的逆$C^{-1}$，$Y =C^{-1} X$。如果老基组成的矩阵是单位矩阵$I$，$I \\cdot C = C$，那么过渡矩阵$C$ 就是新基。变换2的矩阵$A$是正交矩阵（$A \\cdot A^T = I$），所以这个变换叫正交变换，变换前后向量长度，向量间内积不变，正交变换只是对向量用另一组标准正交基表示，向量往新基的各个方向做变换，老基是，\n",
    "$$\n",
    "(e_1, e_2) =\n",
    "  \\begin{bmatrix}\n",
    "  1 & 0\\\\\n",
    "  0 & 1\\\\\n",
    "  \\end{bmatrix}\n",
    "$$\n",
    "经过正交变换，矩阵的新基，\n",
    "$$\n",
    "(\\epsilon_1, \\epsilon_2) =\n",
    "  \\begin{bmatrix}\n",
    "  0 & 1\\\\\n",
    "  1 & 0\\\\\n",
    "  \\end{bmatrix}\n",
    "$$\n",
    "\n",
    "\n",
    "相似矩阵是一个线性变换在不同基下的矩阵。"
   ]
  },
  {
   "cell_type": "markdown",
   "metadata": {},
   "source": [
    "### 特征值分解（EVD）\n",
    "\n",
    "对n阶方阵$A$，如果存在一个数$\\lambda$和一个n维列向量$v$，使得$A \\cdot v = \\lambda \\cdot v$，则$\\lambda$是矩阵$A$的一个特征值，$v$是特征值$\\lambda$下的特征向量。\n",
    "\n",
    "向量$v$伸缩$\\lambda$倍，等于矩阵$A$左乘向量$v$，等于对向量做初等行变换。\n",
    "\n",
    "方阵$A$的特征值、特征向量的几何意义，对特征向量$v$做初等行变换（左乘$A$），等于对特征向量$v$伸缩特征值$\\lambda$倍。"
   ]
  },
  {
   "cell_type": "markdown",
   "metadata": {},
   "source": [
    "### 奇异分解"
   ]
  },
  {
   "cell_type": "markdown",
   "metadata": {},
   "source": [
    "### References\n",
    "[1] [【线性代数的几何意义】行列式的几何意义](https://www.cnblogs.com/AndyJee/p/3491487.html)\n",
    "\n",
    "[2] [机器学习中SVD总结](https://mp.weixin.qq.com/s/Dv51K8JETakIKe5dPBAPVg)"
   ]
  }
 ],
 "metadata": {
  "kernelspec": {
   "display_name": "Python 3",
   "language": "python",
   "name": "python3"
  },
  "language_info": {
   "codemirror_mode": {
    "name": "ipython",
    "version": 3
   },
   "file_extension": ".py",
   "mimetype": "text/x-python",
   "name": "python",
   "nbconvert_exporter": "python",
   "pygments_lexer": "ipython3",
   "version": "3.8.5"
  }
 },
 "nbformat": 4,
 "nbformat_minor": 4
}
