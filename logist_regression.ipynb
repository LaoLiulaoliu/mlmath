{
 "cells": [
  {
   "cell_type": "markdown",
   "metadata": {},
   "source": [
    "Logist Regression\n",
    "\n",
    "Input: $$\n",
    "X =\n",
    "  \\begin{bmatrix}\n",
    "  1 & 2 & \\cdots & 3\\\\\n",
    "  4 & 4 & \\cdots & 6\\\\\n",
    "  7 & 8 & \\cdots & 9\\\\\n",
    "  \\vdots & \\vdots & \\ddots & \\vdots \\\\\n",
    "  11 & 12& \\cdots & 13\\\\\n",
    "  \\end{bmatrix}_{m*n}\n",
    ",\n",
    "Y =\n",
    "  \\begin{bmatrix}\n",
    "  1\\\\\n",
    "  0\\\\\n",
    "  1\\\\\n",
    "  \\vdots\\\\\n",
    "  1\\\\\n",
    "  \\end{bmatrix}_{m*1}\n",
    "$$\n",
    "\n",
    "\n",
    "Hypothesis: $$\n",
    "  H_\\theta(x) = g(z) = \\frac{1}{1+e^{-z}} = \\frac{1}{1+e^{-\\theta^T X}}\n",
    "$$\n",
    "\n",
    "  \n",
    "Linear function: $$\n",
    "  z = -\\theta^T X, z \\in (-\\infty, \\infty)\n",
    "$$\n",
    "\n",
    "Sigmoid function: $$\n",
    "  g(z) = \\frac{1}{1+e^{-z}}, g(z) \\in (0, 1)\n",
    "$$\n",
    "\n",
    "| z $\\geq$ 0 | z < 0 |\n",
    "| :-: | :-: |\n",
    "| -$\\theta^T X$ $\\geq$ 0 | -$\\theta^T X$ < 0 |\n",
    "| $h_\\theta(x)$ $\\geq$ 0.5 | $h_\\theta(x)$ < 0.5 |\n",
    "| **g(z)** $\\geq$ 0.5 | **g(z)** < 0.5 |\n",
    "| **y** = 1 | **y** = 0 |\n",
    "\n",
    "sigmoid function image"
   ]
  },
  {
   "cell_type": "code",
   "execution_count": 10,
   "metadata": {},
   "outputs": [
    {
     "data": {
      "image/png": "[encoded data removed]",
      "text/plain": [
       "<Figure size 720x288 with 1 Axes>"
      ]
     },
     "metadata": {
      "needs_background": "light"
     },
     "output_type": "display_data"
    }
   ],
   "source": [
    "import matplotlib.pyplot as plt\n",
    "import seaborn as sns\n",
    "import numpy as np\n",
    "z = np.linspace(-10, 10, 1000)\n",
    "y = 1 / (1 + np.e ** -z)\n",
    "plt.figure(figsize=(10, 4))\n",
    "sns.lineplot(x='z', y='y', data={'z': z, 'y': y})\n",
    "plt.show()"
   ]
  },
  {
   "cell_type": "markdown",
   "metadata": {},
   "source": [
    "Maximum likelihood function: $$\n",
    "  {\\underset {\\theta}{\\operatorname {arg\\,max} }}\\,L(\\theta) = \\prod_{i=1}^{n} \\quad (h_\\theta(x))^y \\quad (1-h_\\theta(x))^{1-y}\n",
    "$$"
   ]
  }
 ],
 "metadata": {
  "kernelspec": {
   "display_name": "Python 3",
   "language": "python",
   "name": "python3"
  },
  "language_info": {
   "codemirror_mode": {
    "name": "ipython",
    "version": 3
   },
   "file_extension": ".py",
   "mimetype": "text/x-python",
   "name": "python",
   "nbconvert_exporter": "python",
   "pygments_lexer": "ipython3",
   "version": "3.7.6"
  }
 },
 "nbformat": 4,
 "nbformat_minor": 4
}
