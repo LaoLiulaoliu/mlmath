{
 "cells": [
  {
   "cell_type": "markdown",
   "metadata": {},
   "source": [
    "#### 广义线性模型(GLM)\n",
    "指数族分布，包括高斯分布，伯努利分布，多项式分布，泊松分布，$\\beta$分布等。\n",
    "指数分布族定义：\n",
    "$$p(y;\\eta) = b(y) \\, exp(\\eta^T T(y) - a(\\eta))$$\n",
    "* $\\eta$ 是自然参数（natural parameter）\n",
    "* T(y)是充分统计量（suﬃcient statistic）\n",
    "* $a(\\eta)$是log partition function\n",
    "\n",
    "T，a，b确定一种分布，$\\eta$是该分布的参数。一般情况下，$T(y) = y$。\n",
    "\n",
    "Bernoulli分布的指数分布族形式：$$\n",
    "\\begin{align}\n",
    "\\because p(y = 1;\\phi) &= \\phi \\\\\n",
    "p(y = 0;\\phi) &= 1 - \\phi\n",
    "\\end{align}\n",
    "$$\n",
    "$$\n",
    "\\begin{align}\n",
    "\\therefore p(y;\\phi) &= \\phi^y (1-\\phi)^{1-y} \\\\\n",
    "&= exp(y log(\\phi) + (1 - y) log(1 - \\phi))\\\\\n",
    "&= exp(y log(\\frac{\\phi}{1-\\phi}) + log(1 - \\phi))\n",
    "\\end{align}\n",
    "$$\n",
    "证明$e^{ln(x)}=x$。因为$e^x$和$log_e(x)$是反函数，设$x=e^y, \\forall x > 0$，则$y=ln(x)$，所以$e^{ln(x)}=e^y=x$。\n",
    "<br /><br />\n",
    "对应参数如下：$$\n",
    "\\begin{align}\n",
    "\\eta &= log(\\frac{\\phi}{1 - \\phi}) \\Rightarrow \\phi = \\frac{1}{1 + e^{-\\eta}} \\\\\n",
    "T(y) &= y \\\\\n",
    "b(y) &= 1 \\\\\n",
    "a(\\eta) &= -log(1 - \\phi) = log(1 + e^\\eta)\n",
    "\\end{align}\n",
    "$$\n",
    "\n",
    "Gaussian分布的指数分布族形式：$$\n",
    "\\begin{align}\n",
    "p(y;\\mu) &= \\frac{1}{\\sqrt{2\\pi}\\sigma} exp\\left(-\\frac{(y-\\mu)^2}{2\\sigma^2}\\right) \\\\\n",
    "&= \\frac{e^{\\frac{1}{\\sigma^2}}}{\\sqrt{2\\pi}\\sigma} exp\\left(-\\frac{(y-\\mu)^2}{2}\\right) \\\\\n",
    "&= \\frac{e^{\\sigma^{-2}}}{\\sqrt{2\\pi}\\sigma} exp(-\\frac{1}{2} y^2) exp(\\mu y - \\frac{1}{2} \\mu^2)\n",
    "\\end{align}\n",
    "$$\n",
    "\n",
    "对应参数如下：$$\n",
    "\\begin{align}\n",
    "T(y) &= y \\\\\n",
    "\\eta &= \\mu \\\\\n",
    "a(\\eta) &= \\frac{\\mu^2}{2} = \\frac{\\eta^2}{2} \\\\\n",
    "b(y) &= \\frac{e^{\\sigma^{-2}}}{\\sqrt{2\\pi}\\sigma} exp(-\\frac{1}{2} y^2)\n",
    "\\end{align}\n",
    "$$"
   ]
  }
 ],
 "metadata": {
  "kernelspec": {
   "display_name": "Python 3",
   "language": "python",
   "name": "python3"
  },
  "language_info": {
   "codemirror_mode": {
    "name": "ipython",
    "version": 3
   },
   "file_extension": ".py",
   "mimetype": "text/x-python",
   "name": "python",
   "nbconvert_exporter": "python",
   "pygments_lexer": "ipython3",
   "version": "3.7.0"
  }
 },
 "nbformat": 4,
 "nbformat_minor": 4
}
